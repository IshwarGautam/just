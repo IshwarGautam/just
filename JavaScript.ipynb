{
 "cells": [
  {
   "cell_type": "code",
   "execution_count": 1,
   "id": "9533bdca",
   "metadata": {},
   "outputs": [
    {
     "data": {
      "application/javascript": [
       "console.log(\"hello world\")\n"
      ],
      "text/plain": [
       "<IPython.core.display.Javascript object>"
      ]
     },
     "metadata": {},
     "output_type": "display_data"
    }
   ],
   "source": [
    "%%js\n",
    "console.log(\"hello world\")"
   ]
  },
  {
   "cell_type": "code",
   "execution_count": 2,
   "id": "4487d450",
   "metadata": {},
   "outputs": [
    {
     "data": {
      "application/javascript": [
       "element.text(\"hello world\")\n"
      ],
      "text/plain": [
       "<IPython.core.display.Javascript object>"
      ]
     },
     "metadata": {},
     "output_type": "display_data"
    }
   ],
   "source": [
    "%%js\n",
    "element.text(\"hello world\")"
   ]
  },
  {
   "cell_type": "code",
   "execution_count": 6,
   "id": "8930ba85",
   "metadata": {},
   "outputs": [
    {
     "data": {
      "text/html": [
       "\n",
       "<html>\n",
       "    <body>\n",
       "        <p>JavaScript by IG Tech Team</p>\n",
       "    </body>\n",
       "</html>\n"
      ],
      "text/plain": [
       "<IPython.core.display.HTML object>"
      ]
     },
     "metadata": {},
     "output_type": "display_data"
    }
   ],
   "source": [
    "%%html\n",
    "\n",
    "<html>\n",
    "    <body>\n",
    "        <p>JavaScript by IG Tech Team</p>\n",
    "    </body>\n",
    "</html>"
   ]
  },
  {
   "cell_type": "markdown",
   "id": "3a9a0888",
   "metadata": {},
   "source": [
    "# What is JavaScript?"
   ]
  },
  {
   "cell_type": "raw",
   "id": "236a15c4",
   "metadata": {},
   "source": [
    "JavaScript is the most popular dynamic programming language that is used for web development, in web applications, for game development, and lots more."
   ]
  },
  {
   "cell_type": "markdown",
   "id": "132f3262",
   "metadata": {},
   "source": [
    "### 1.  Comment"
   ]
  },
  {
   "cell_type": "code",
   "execution_count": 9,
   "id": "580f70f1",
   "metadata": {},
   "outputs": [
    {
     "data": {
      "application/javascript": [
       "\n",
       "// single line comment\n",
       "\n",
       "/*\n",
       "Multi line comment\n",
       "in Javascript\n",
       "*/\n"
      ],
      "text/plain": [
       "<IPython.core.display.Javascript object>"
      ]
     },
     "metadata": {},
     "output_type": "display_data"
    }
   ],
   "source": [
    "%%js\n",
    "\n",
    "// single line comment\n",
    "\n",
    "/*\n",
    "Multi line comment\n",
    "in Javascript\n",
    "*/"
   ]
  },
  {
   "cell_type": "markdown",
   "id": "7c3264a6",
   "metadata": {},
   "source": [
    "## 2. Variable"
   ]
  },
  {
   "cell_type": "code",
   "execution_count": 10,
   "id": "1bafa3de",
   "metadata": {},
   "outputs": [
    {
     "data": {
      "application/javascript": [
       "\n",
       "var num1 = 2;\n",
       "let num2 = 8;\n",
       "const num3 = 12;\n"
      ],
      "text/plain": [
       "<IPython.core.display.Javascript object>"
      ]
     },
     "metadata": {},
     "output_type": "display_data"
    }
   ],
   "source": [
    "%%js\n",
    "\n",
    "var num1 = 2;\n",
    "let num2 = 8;\n",
    "const num3 = 12;"
   ]
  },
  {
   "cell_type": "raw",
   "id": "c90b1b1e",
   "metadata": {},
   "source": [
    "var: Don't use var\n",
    "let: use var if the value of variable change later\n",
    "const: use const if the value of variable remain same throughout the program."
   ]
  },
  {
   "cell_type": "code",
   "execution_count": 11,
   "id": "94667b27",
   "metadata": {},
   "outputs": [
    {
     "data": {
      "application/javascript": [
       "\n",
       "const name = \"Ishwar\";\n",
       "\n",
       "name = \"Bijay\"\n"
      ],
      "text/plain": [
       "<IPython.core.display.Javascript object>"
      ]
     },
     "metadata": {},
     "output_type": "display_data"
    }
   ],
   "source": [
    "%%js\n",
    "\n",
    "const name = \"Ishwar\";\n",
    "\n",
    "name = \"Bijay\""
   ]
  },
  {
   "cell_type": "code",
   "execution_count": 12,
   "id": "fa514514",
   "metadata": {},
   "outputs": [
    {
     "data": {
      "application/javascript": [
       "\n",
       "let name = \"Ishwar\";\n",
       "\n",
       "name = \"Bijay\"\n"
      ],
      "text/plain": [
       "<IPython.core.display.Javascript object>"
      ]
     },
     "metadata": {},
     "output_type": "display_data"
    }
   ],
   "source": [
    "%%js\n",
    "\n",
    "let name = \"Ishwar\";\n",
    "\n",
    "name = \"Bijay\""
   ]
  },
  {
   "cell_type": "markdown",
   "id": "adb0d273",
   "metadata": {},
   "source": [
    "## 3. Operator"
   ]
  },
  {
   "cell_type": "raw",
   "id": "ef9f3a7d",
   "metadata": {},
   "source": [
    "There are different types of JavaScript operators:\n",
    "\n",
    "Arithmetic Operators\n",
    "Assignment Operators\n",
    "Comparison Operators\n",
    "Logical Operators\n",
    "Conditional Operators\n",
    "Type Operators"
   ]
  },
  {
   "cell_type": "code",
   "execution_count": 14,
   "id": "29431f50",
   "metadata": {},
   "outputs": [
    {
     "data": {
      "application/javascript": [
       "\n",
       "// console.log(2+8)\n",
       "element.text(2+8)\n"
      ],
      "text/plain": [
       "<IPython.core.display.Javascript object>"
      ]
     },
     "metadata": {},
     "output_type": "display_data"
    }
   ],
   "source": [
    "%%js\n",
    "\n",
    "// console.log(2+8)\n",
    "element.text(2+8)"
   ]
  },
  {
   "cell_type": "code",
   "execution_count": 18,
   "id": "613de472",
   "metadata": {},
   "outputs": [
    {
     "data": {
      "application/javascript": [
       "\n",
       "let isNameValid = true;\n",
       "element.text(typeof(isNameValid));\n"
      ],
      "text/plain": [
       "<IPython.core.display.Javascript object>"
      ]
     },
     "metadata": {},
     "output_type": "display_data"
    }
   ],
   "source": [
    "%%js\n",
    "\n",
    "let isNameValid = true;\n",
    "element.text(typeof(isNameValid));"
   ]
  },
  {
   "cell_type": "code",
   "execution_count": 23,
   "id": "d6a6c304",
   "metadata": {},
   "outputs": [
    {
     "data": {
      "application/javascript": [
       "\n",
       "let arr = [\"JavaScript\", \"Python\", \"Java\"]\n",
       "element.text(arr instanceof Array);\n"
      ],
      "text/plain": [
       "<IPython.core.display.Javascript object>"
      ]
     },
     "metadata": {},
     "output_type": "display_data"
    }
   ],
   "source": [
    "%%js\n",
    "\n",
    "let arr = [\"JavaScript\", \"Python\", \"Java\"]\n",
    "element.text(arr instanceof Array);"
   ]
  },
  {
   "cell_type": "markdown",
   "id": "5f348b66",
   "metadata": {},
   "source": [
    "## 4. Data Types"
   ]
  },
  {
   "cell_type": "code",
   "execution_count": 32,
   "id": "1948f57e",
   "metadata": {},
   "outputs": [
    {
     "data": {
      "application/javascript": [
       "\n",
       "const String = \"IG Tech Team\";\n",
       "const number = 5;\n",
       "const boolean = false;\n",
       "const decimal = 5.5;\n"
      ],
      "text/plain": [
       "<IPython.core.display.Javascript object>"
      ]
     },
     "metadata": {},
     "output_type": "display_data"
    }
   ],
   "source": [
    "%%js\n",
    "\n",
    "const String = \"IG Tech Team\";\n",
    "const number = 5;\n",
    "const boolean = false;\n",
    "const decimal = 5.5;"
   ]
  },
  {
   "cell_type": "markdown",
   "id": "fdf05476",
   "metadata": {},
   "source": [
    "## 5. Function\n"
   ]
  },
  {
   "cell_type": "code",
   "execution_count": 34,
   "id": "3edaeaa2",
   "metadata": {},
   "outputs": [
    {
     "data": {
      "application/javascript": [
       "\n",
       "function myFunc(){\n",
       "    return \"ES5 syntax\";\n",
       "}\n",
       "element.text(myFunc());\n"
      ],
      "text/plain": [
       "<IPython.core.display.Javascript object>"
      ]
     },
     "metadata": {},
     "output_type": "display_data"
    }
   ],
   "source": [
    "%%js\n",
    "\n",
    "function myFunc(){\n",
    "    return \"ES5 syntax\";\n",
    "}\n",
    "element.text(myFunc());"
   ]
  },
  {
   "cell_type": "code",
   "execution_count": 35,
   "id": "ff52f2d6",
   "metadata": {},
   "outputs": [
    {
     "data": {
      "application/javascript": [
       "\n",
       "const myFunc = () => {\n",
       "    return \"Using Arrow Function: ES6 syntax\";\n",
       "}\n",
       "element.text(myFunc());\n"
      ],
      "text/plain": [
       "<IPython.core.display.Javascript object>"
      ]
     },
     "metadata": {},
     "output_type": "display_data"
    }
   ],
   "source": [
    "%%js\n",
    "\n",
    "const myFunc = () => {\n",
    "    return \"Using Arrow Function: ES6 syntax\";\n",
    "}\n",
    "element.text(myFunc());"
   ]
  },
  {
   "cell_type": "markdown",
   "id": "a82500b1",
   "metadata": {},
   "source": [
    "## 6. Loop"
   ]
  },
  {
   "cell_type": "code",
   "execution_count": 143,
   "id": "89ff0e80",
   "metadata": {},
   "outputs": [
    {
     "data": {
      "application/javascript": [
       "\n",
       "for (let i=0; i<5; i++){\n",
       "    console.log(\"Loop in JS\");\n",
       "}\n"
      ],
      "text/plain": [
       "<IPython.core.display.Javascript object>"
      ]
     },
     "metadata": {},
     "output_type": "display_data"
    }
   ],
   "source": [
    "%%js\n",
    "\n",
    "for (let i=0; i<5; i++){\n",
    "    console.log(\"Loop in JS\");\n",
    "}"
   ]
  },
  {
   "cell_type": "code",
   "execution_count": 46,
   "id": "4cd81a77",
   "metadata": {},
   "outputs": [
    {
     "data": {
      "application/javascript": [
       "\n",
       "let arr = [\"JavaScript\", \"Python\", \"Java\"];\n",
       "\n",
       "for (let el in arr){\n",
       "    console.log(arr[el]);\n",
       "}\n"
      ],
      "text/plain": [
       "<IPython.core.display.Javascript object>"
      ]
     },
     "metadata": {},
     "output_type": "display_data"
    }
   ],
   "source": [
    "%%js\n",
    "\n",
    "let arr = [\"JavaScript\", \"Python\", \"Java\"];\n",
    "\n",
    "for (let i in arr){\n",
    "    console.log(arr[i]);\n",
    "}"
   ]
  },
  {
   "cell_type": "code",
   "execution_count": 50,
   "id": "0d9c9f60",
   "metadata": {},
   "outputs": [
    {
     "data": {
      "application/javascript": [
       "\n",
       "let arr = [\"JavaScript\", \"Python\", \"Java\"];\n",
       "\n",
       "for (let el of arr){\n",
       "    console.log(el);\n",
       "}\n"
      ],
      "text/plain": [
       "<IPython.core.display.Javascript object>"
      ]
     },
     "metadata": {},
     "output_type": "display_data"
    }
   ],
   "source": [
    "%%js\n",
    "\n",
    "let arr = [\"JavaScript\", \"Python\", \"Java\"];\n",
    "\n",
    "for (let el of arr){\n",
    "    console.log(el);\n",
    "}"
   ]
  },
  {
   "cell_type": "code",
   "execution_count": 56,
   "id": "09ab5978",
   "metadata": {},
   "outputs": [
    {
     "data": {
      "application/javascript": [
       "\n",
       "let i=0;\n",
       "\n",
       "while(i<5){\n",
       "    console.log(\"While loop\");\n",
       "    i++;\n",
       "}\n"
      ],
      "text/plain": [
       "<IPython.core.display.Javascript object>"
      ]
     },
     "metadata": {},
     "output_type": "display_data"
    }
   ],
   "source": [
    "%%js\n",
    "\n",
    "let i=0;\n",
    "\n",
    "while(i<5){\n",
    "    console.log(\"While loop\");\n",
    "    i++;\n",
    "}"
   ]
  },
  {
   "cell_type": "code",
   "execution_count": 65,
   "id": "de388698",
   "metadata": {},
   "outputs": [
    {
     "data": {
      "application/javascript": [
       "\n",
       "let arr = [\"JavaScript\", \"Python\", \"Java\"];\n",
       "\n",
       "arr.forEach(el => {\n",
       "    console.log(el);\n",
       "})\n"
      ],
      "text/plain": [
       "<IPython.core.display.Javascript object>"
      ]
     },
     "metadata": {},
     "output_type": "display_data"
    }
   ],
   "source": [
    "%%js\n",
    "\n",
    "let arr = [\"JavaScript\", \"Python\", \"Java\"];\n",
    "\n",
    "arr.forEach(el => {\n",
    "    console.log(el);\n",
    "})"
   ]
  },
  {
   "cell_type": "markdown",
   "id": "16e3900f",
   "metadata": {},
   "source": [
    "## 7. Break and Continue"
   ]
  },
  {
   "cell_type": "code",
   "execution_count": 59,
   "id": "c90fbd56",
   "metadata": {},
   "outputs": [
    {
     "data": {
      "application/javascript": [
       "\n",
       "for (let i=0; i<10000; i++){\n",
       "    if (i === 4){\n",
       "        break;\n",
       "    }\n",
       "    \n",
       "    console.log(i); \n",
       "}\n"
      ],
      "text/plain": [
       "<IPython.core.display.Javascript object>"
      ]
     },
     "metadata": {},
     "output_type": "display_data"
    }
   ],
   "source": [
    "%%js\n",
    "\n",
    "for (let i=0; i<10000; i++){\n",
    "    if (i === 4){\n",
    "        break;\n",
    "    }\n",
    "    \n",
    "    console.log(i); \n",
    "}"
   ]
  },
  {
   "cell_type": "code",
   "execution_count": 61,
   "id": "5f6daf68",
   "metadata": {},
   "outputs": [
    {
     "data": {
      "application/javascript": [
       "\n",
       "for (let i=0; i<=10; i++){\n",
       "    if (i === 4 || i === 8){\n",
       "        continue;\n",
       "    }\n",
       "    \n",
       "    console.log(i);\n",
       "}\n"
      ],
      "text/plain": [
       "<IPython.core.display.Javascript object>"
      ]
     },
     "metadata": {},
     "output_type": "display_data"
    }
   ],
   "source": [
    "%%js\n",
    "\n",
    "for (let i=0; i<=10; i++){\n",
    "    if (i === 4 || i === 8){\n",
    "        continue;\n",
    "    }\n",
    "    \n",
    "    console.log(i);\n",
    "}"
   ]
  },
  {
   "cell_type": "markdown",
   "id": "85bee8cc",
   "metadata": {},
   "source": [
    "## 8. Switch"
   ]
  },
  {
   "cell_type": "code",
   "execution_count": 76,
   "id": "eacefc7d",
   "metadata": {},
   "outputs": [
    {
     "data": {
      "application/javascript": [
       "\n",
       "let day;\n",
       "\n",
       "const date = new Date().getDay();\n",
       "\n",
       "switch (date) {\n",
       "  case 0:\n",
       "    day = \"Sunday\";\n",
       "    break;\n",
       "  case 1:\n",
       "    day = \"Monday\";\n",
       "    break;\n",
       "  case 2:\n",
       "     day = \"Tuesday\";\n",
       "    break;\n",
       "  case 3:\n",
       "    day = \"Wednesday\";\n",
       "    break;\n",
       "  case 4:\n",
       "    day = \"Thursday\";\n",
       "    break;\n",
       "  case 5:\n",
       "    day = \"Friday\";\n",
       "    break;\n",
       "  case 6:\n",
       "    day = \"Saturday\";\n",
       "    break;\n",
       "  default:\n",
       "    day = \"Not a valid date.\"\n",
       "}\n",
       "\n",
       "element.text(day);\n"
      ],
      "text/plain": [
       "<IPython.core.display.Javascript object>"
      ]
     },
     "metadata": {},
     "output_type": "display_data"
    }
   ],
   "source": [
    "%%js\n",
    "\n",
    "let day;\n",
    "\n",
    "const date = new Date().getDay();\n",
    "\n",
    "switch (date) {\n",
    "  case 0:\n",
    "    day = \"Sunday\";\n",
    "    break;\n",
    "  case 1:\n",
    "    day = \"Monday\";\n",
    "    break;\n",
    "  case 2:\n",
    "     day = \"Tuesday\";\n",
    "    break;\n",
    "  case 3:\n",
    "    day = \"Wednesday\";\n",
    "    break;\n",
    "  case 4:\n",
    "    day = \"Thursday\";\n",
    "    break;\n",
    "  case 5:\n",
    "    day = \"Friday\";\n",
    "    break;\n",
    "  case 6:\n",
    "    day = \"Saturday\";\n",
    "    break;\n",
    "  default:\n",
    "    day = \"Not a valid date.\"\n",
    "}\n",
    "\n",
    "element.text(day);"
   ]
  },
  {
   "cell_type": "markdown",
   "id": "fa27aad5",
   "metadata": {},
   "source": [
    "## 9. JS in HTML"
   ]
  },
  {
   "cell_type": "code",
   "execution_count": 84,
   "id": "fdb49624",
   "metadata": {},
   "outputs": [
    {
     "data": {
      "text/html": [
       "\n",
       "<!DOCTYPE html>\n",
       "<html>\n",
       "<body>\n",
       "\n",
       "<p id=\"js\">JavaScript by IG Tech Team.</p>\n",
       "\n",
       "<button type=\"button\" onclick=\"document.getElementById('js').style.color='red'\">Click Me!</button>\n",
       "\n",
       "</body>\n",
       "</html> \n"
      ],
      "text/plain": [
       "<IPython.core.display.HTML object>"
      ]
     },
     "metadata": {},
     "output_type": "display_data"
    }
   ],
   "source": [
    "%%html\n",
    "\n",
    "<!DOCTYPE html>\n",
    "<html>\n",
    "<body>\n",
    "\n",
    "<p id=\"js\">JavaScript by IG Tech Team.</p>\n",
    "\n",
    "<button type=\"button\" onclick=\"document.getElementById('js').style.color='red'\">Click Me!</button>\n",
    "\n",
    "</body>\n",
    "</html> "
   ]
  },
  {
   "cell_type": "markdown",
   "id": "cdbb90f3",
   "metadata": {},
   "source": [
    "## 10. Filter and map"
   ]
  },
  {
   "cell_type": "code",
   "execution_count": 101,
   "id": "11532194",
   "metadata": {},
   "outputs": [
    {
     "data": {
      "application/javascript": [
       "\n",
       "const result = [\n",
       "    {\n",
       "        \"Ishwar\": 94\n",
       "    },\n",
       "    {\n",
       "        \"Bijay\": 86\n",
       "    },\n",
       "    {\n",
       "        \"Devraj\": 40\n",
       "    },\n",
       "    {\n",
       "        \"Suman\": 56\n",
       "    },\n",
       "    {\n",
       "        \"Rahul\": 92\n",
       "    },\n",
       "    {\n",
       "        \"Sneha\": 78\n",
       "    },\n",
       "    {\n",
       "        \"Anjali\": 42\n",
       "    }\n",
       "]\n",
       "\n",
       "const filteredResult = result.filter(obj=>{\n",
       "    return Object.values(obj)>=50\n",
       "})\n",
       "\n",
       "console.log(filteredResult);\n"
      ],
      "text/plain": [
       "<IPython.core.display.Javascript object>"
      ]
     },
     "metadata": {},
     "output_type": "display_data"
    }
   ],
   "source": [
    "%%js\n",
    "\n",
    "const result = [\n",
    "    {\n",
    "        \"Ishwar\": 94\n",
    "    },\n",
    "    {\n",
    "        \"Bijay\": 86\n",
    "    },\n",
    "    {\n",
    "        \"Devraj\": 40\n",
    "    },\n",
    "    {\n",
    "        \"Suman\": 56\n",
    "    },\n",
    "    {\n",
    "        \"Rahul\": 92\n",
    "    },\n",
    "    {\n",
    "        \"Sneha\": 78\n",
    "    },\n",
    "    {\n",
    "        \"Anjali\": 42\n",
    "    }\n",
    "]\n",
    "\n",
    "const filteredResult = result.filter(obj=>{\n",
    "    return Object.values(obj)>=50\n",
    "})\n",
    "\n",
    "console.log(filteredResult);"
   ]
  },
  {
   "cell_type": "code",
   "execution_count": 110,
   "id": "f6e8fd5a",
   "metadata": {},
   "outputs": [
    {
     "data": {
      "application/javascript": [
       "\n",
       "const result = [\n",
       "    {\n",
       "        \"Ishwar\": 94\n",
       "    },\n",
       "    {\n",
       "        \"Bijay\": 86\n",
       "    },\n",
       "    {\n",
       "        \"Devraj\": 40\n",
       "    },\n",
       "    {\n",
       "        \"Suman\": 56\n",
       "    },\n",
       "    {\n",
       "        \"Rahul\": 92\n",
       "    },\n",
       "    {\n",
       "        \"Sneha\": 78\n",
       "    },\n",
       "    {\n",
       "        \"Anjali\": 42\n",
       "    }\n",
       "]\n",
       "\n",
       "const mapped = result.map(obj=>{\n",
       "   return Object.values(obj)>=50;\n",
       "})\n",
       "\n",
       "console.log(mapped);\n"
      ],
      "text/plain": [
       "<IPython.core.display.Javascript object>"
      ]
     },
     "metadata": {},
     "output_type": "display_data"
    }
   ],
   "source": [
    "%%js\n",
    "\n",
    "const result = [\n",
    "    {\n",
    "        \"Ishwar\": 94\n",
    "    },\n",
    "    {\n",
    "        \"Bijay\": 86\n",
    "    },\n",
    "    {\n",
    "        \"Devraj\": 40\n",
    "    },\n",
    "    {\n",
    "        \"Suman\": 56\n",
    "    },\n",
    "    {\n",
    "        \"Rahul\": 92\n",
    "    },\n",
    "    {\n",
    "        \"Sneha\": 78\n",
    "    },\n",
    "    {\n",
    "        \"Anjali\": 42\n",
    "    }\n",
    "]\n",
    "\n",
    "const mapped = result.map(obj=>{\n",
    "   return Object.values(obj)>=50;\n",
    "})\n",
    "\n",
    "console.log(mapped);"
   ]
  },
  {
   "cell_type": "markdown",
   "id": "e368b538",
   "metadata": {},
   "source": [
    "## 11. Spread operator"
   ]
  },
  {
   "cell_type": "code",
   "execution_count": 124,
   "id": "350475f8",
   "metadata": {},
   "outputs": [
    {
     "data": {
      "application/javascript": [
       "\n",
       "const obj = {\n",
       "    name: 'Ishwar'\n",
       "}\n",
       "\n",
       "// const copy = obj;\n",
       "let copy = {...obj};\n",
       "\n",
       "copy.age = 25;\n",
       "\n",
       "copy = {...copy, country: \"Nepal\"};\n",
       "\n",
       "console.log(\"copy:\", copy);\n",
       "console.log(\"obj:\", obj);\n"
      ],
      "text/plain": [
       "<IPython.core.display.Javascript object>"
      ]
     },
     "metadata": {},
     "output_type": "display_data"
    }
   ],
   "source": [
    "%%js\n",
    "\n",
    "const obj = {\n",
    "    name: 'Ishwar'\n",
    "}\n",
    "\n",
    "let copy = {...obj};\n",
    "\n",
    "copy.age = 25;\n",
    "\n",
    "copy = {...copy, country: \"Nepal\"};\n",
    "\n",
    "console.log(\"copy:\", copy);\n",
    "console.log(\"obj:\", obj);"
   ]
  },
  {
   "cell_type": "markdown",
   "id": "572a5214",
   "metadata": {},
   "source": [
    "## 12. Sort an array"
   ]
  },
  {
   "cell_type": "code",
   "execution_count": 131,
   "id": "af1003c8",
   "metadata": {},
   "outputs": [
    {
     "data": {
      "application/javascript": [
       "\n",
       "const arr = [\"JavaScript\", \"Python\", \"Ruby\", \"React\", \"Java\", \"Node\"];\n",
       "\n",
       "const sortedArr = arr.sort();\n",
       "console.log(sortedArr);\n"
      ],
      "text/plain": [
       "<IPython.core.display.Javascript object>"
      ]
     },
     "metadata": {},
     "output_type": "display_data"
    }
   ],
   "source": [
    "%%js\n",
    "\n",
    "const arr = [\"JavaScript\", \"Python\", \"Ruby\", \"React\", \"Java\", \"Node\"];\n",
    "\n",
    "const sortedArr = arr.sort();\n",
    "console.log(sortedArr);"
   ]
  },
  {
   "cell_type": "code",
   "execution_count": 133,
   "id": "c2dd9d98",
   "metadata": {},
   "outputs": [
    {
     "data": {
      "application/javascript": [
       "\n",
       "const arr = [\"JavaScript\", \"Python\", \"Ruby\", \"React\", \"Java\", \"Node\"];\n",
       "\n",
       "const sortedArr = arr.sort().reverse();\n",
       "console.log(sortedArr);\n"
      ],
      "text/plain": [
       "<IPython.core.display.Javascript object>"
      ]
     },
     "metadata": {},
     "output_type": "display_data"
    }
   ],
   "source": [
    "%%js\n",
    "\n",
    "const arr = [\"JavaScript\", \"Python\", \"Ruby\", \"React\", \"Java\", \"Node\"];\n",
    "\n",
    "const sortedArr = arr.sort().reverse();\n",
    "console.log(sortedArr);"
   ]
  },
  {
   "cell_type": "code",
   "execution_count": 137,
   "id": "2105acda",
   "metadata": {},
   "outputs": [
    {
     "data": {
      "application/javascript": [
       "\n",
       "const arr = [45, 2, 56, 12, 100, 123, 243, 27, 78];\n",
       "\n",
       "const sortedArr = arr.sort((a,b)=>a-b);\n",
       "console.log(sortedArr);\n"
      ],
      "text/plain": [
       "<IPython.core.display.Javascript object>"
      ]
     },
     "metadata": {},
     "output_type": "display_data"
    }
   ],
   "source": [
    "%%js\n",
    "\n",
    "const arr = [45, 2, 56, 12, 100, 123, 243, 27, 78];\n",
    "\n",
    "const sortedArr = arr.sort((a,b)=>a-b);\n",
    "console.log(sortedArr);"
   ]
  },
  {
   "cell_type": "code",
   "execution_count": 138,
   "id": "f06d9c93",
   "metadata": {},
   "outputs": [
    {
     "data": {
      "application/javascript": [
       "\n",
       "const arr = [45, 2, 56, 12, 100, 123, 243, 27, 78];\n",
       "\n",
       "const sortedArr = arr.sort((a,b)=>b-a);\n",
       "console.log(sortedArr);\n"
      ],
      "text/plain": [
       "<IPython.core.display.Javascript object>"
      ]
     },
     "metadata": {},
     "output_type": "display_data"
    }
   ],
   "source": [
    "%%js\n",
    "\n",
    "const arr = [45, 2, 56, 12, 100, 123, 243, 27, 78];\n",
    "\n",
    "const sortedArr = arr.sort((a,b)=>b-a);\n",
    "console.log(sortedArr);"
   ]
  },
  {
   "cell_type": "code",
   "execution_count": null,
   "id": "321ee3fb",
   "metadata": {},
   "outputs": [],
   "source": []
  }
 ],
 "metadata": {
  "kernelspec": {
   "display_name": "Python 3 (ipykernel)",
   "language": "python",
   "name": "python3"
  },
  "language_info": {
   "codemirror_mode": {
    "name": "ipython",
    "version": 3
   },
   "file_extension": ".py",
   "mimetype": "text/x-python",
   "name": "python",
   "nbconvert_exporter": "python",
   "pygments_lexer": "ipython3",
   "version": "3.11.0"
  }
 },
 "nbformat": 4,
 "nbformat_minor": 5
}
